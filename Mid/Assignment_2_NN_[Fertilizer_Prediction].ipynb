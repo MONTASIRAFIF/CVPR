{
  "nbformat": 4,
  "nbformat_minor": 0,
  "metadata": {
    "colab": {
      "provenance": []
    },
    "kernelspec": {
      "name": "python3",
      "display_name": "Python 3"
    },
    "language_info": {
      "name": "python"
    }
  },
  "cells": [
    {
      "cell_type": "markdown",
      "source": [
        "1. Import **Libraries** and **Load Data** **bold text**\n",
        "\n"
      ],
      "metadata": {
        "id": "l21oTi4D7ccL"
      }
    },
    {
      "cell_type": "code",
      "source": [
        "import numpy as np\n",
        "import pandas as pd\n",
        "import matplotlib.pyplot as plt\n",
        "\n",
        "# Load fertilizer dataset from a CSV file\n",
        "data = pd.read_csv('/content/fertilizer_data.csv')\n",
        "\n",
        "# Display first few rows\n",
        "print(data.head())"
      ],
      "metadata": {
        "colab": {
          "base_uri": "https://localhost:8080/"
        },
        "id": "sMCsrC4X7ii0",
        "outputId": "aa122ac8-9cdd-4708-ddd5-da5c5cae1267"
      },
      "execution_count": 76,
      "outputs": [
        {
          "output_type": "stream",
          "name": "stdout",
          "text": [
            "   Temperature   Humidity  Fertilizer_Type\n",
            "0    27.490802  68.521899                0\n",
            "1    39.014286  35.048398                1\n",
            "2    34.639879  39.697723                0\n",
            "3    31.973170  83.913251                0\n",
            "4    23.120373  66.385744                1\n"
          ]
        }
      ]
    },
    {
      "cell_type": "markdown",
      "source": [
        "**2. Data Preprocessing**\n",
        "\n",
        "Here, I have implemented a model that can give me** Fertilizer type based on 2 input-Temperature and Humidity.**\n",
        "\n",
        "To implement this i have a loaded a demo dataset containing 3 columns\n",
        "\n",
        "1.   **Temparature**\n",
        "2.   **Humidity** and\n",
        "3. **Fertilizer** type *[(0,1,2) here, 0 representing Nitrozen, 1 representing Phosphorus and 2 representing Potassium]*\n",
        "\n",
        "\n",
        "**Feature Extraction:** Temperature and Humidity are extracted as X, and Fertilizer Type as y.\n",
        "\n",
        "\n",
        "**Label Encoding:** The Fertilizer Type is mapped to integer values (e.g., Nitrogen = 0, Phosphorus = 1).\n",
        "\n",
        "**One-hot Encoding:** The target values are one-hot encoded (e.g., [1, 0, 0] for Nitrogen).\n",
        "\n",
        "**Normalization:** The feature values (Temperature and Humidity) are normalized to a [0, 1] range using Min-Max scaling."
      ],
      "metadata": {
        "id": "Id0UYJ1b7vVN"
      }
    },
    {
      "cell_type": "markdown",
      "source": [],
      "metadata": {
        "id": "yw9qswQP3yll"
      }
    },
    {
      "cell_type": "code",
      "source": [
        "# Extract Features (Temperature, Humidity) and Target (Fertilizer Type)\n",
        "X = data[['Temperature', 'Humidity']].values\n",
        "y = data['Fertilizer_Type'].values\n",
        "\n",
        "# Mapping the Fertilizer_Type to integers\n",
        "fertilizer_mapping = {ftype: idx for idx, ftype in enumerate(np.unique(y))}\n",
        "y = np.array([fertilizer_mapping[label] for label in y])\n",
        "\n",
        "# One-hot encoding the target (Fertilizer_Type)\n",
        "def one_hot_encode(y, num_classes):\n",
        "    return np.eye(num_classes)[y]\n",
        "\n",
        "num_classes = len(fertilizer_mapping)\n",
        "y_one_hot = one_hot_encode(y, num_classes)\n",
        "\n",
        "# Normalizing the data (min-max scaling)\n",
        "X_min, X_max = X.min(axis=0), X.max(axis=0)\n",
        "X_scaled = (X - X_min) / (X_max - X_min)\n",
        "\n",
        "# Manual dataset splitting: 80% training, 20% testing\n",
        "split_index = int(0.8 * X_scaled.shape[0])  # Calculate split index\n",
        "\n",
        "X_train = X_scaled[:split_index]\n",
        "y_train = y_one_hot[:split_index]\n",
        "\n",
        "X_test = X_scaled[split_index:]\n",
        "y_test = y_one_hot[split_index:]\n",
        "\n",
        "print(f\"Training samples: {X_train.shape[0]}\")\n",
        "print(f\"Testing samples: {X_test.shape[0]}\")"
      ],
      "metadata": {
        "id": "4JZ7Jrsa5l26",
        "colab": {
          "base_uri": "https://localhost:8080/"
        },
        "outputId": "271ce073-bbe8-41bd-af15-b24f94684384"
      },
      "execution_count": 77,
      "outputs": [
        {
          "output_type": "stream",
          "name": "stdout",
          "text": [
            "Training samples: 160\n",
            "Testing samples: 40\n"
          ]
        }
      ]
    },
    {
      "cell_type": "markdown",
      "source": [
        "**3. Neural Network Class**\n",
        "\n",
        "**NeuralNetwork Class:** Implements a multi-layer neural network with 3 hidden layers and an output layer. The key methods are:\n",
        "sigmoid: Sigmoid activation function with an option for its derivative.\n",
        "\n",
        "**softmax:** Softmax activation function for the output layer to produce class probabilities.\n",
        "\n",
        "**feedForward:** Performs a forward pass through the network layers.\n",
        "\n",
        "**backPropagation:** Updates the weights using the backpropagation algorithm."
      ],
      "metadata": {
        "id": "yE3LVHQM9EXY"
      }
    },
    {
      "cell_type": "code",
      "source": [
        "class NeuralNetwork:\n",
        "    def __init__(self):\n",
        "        inputLayerNeurons = 2  # Features: Temperature, Humidity\n",
        "        hiddenLayer1Neurons = 6\n",
        "        hiddenLayer2Neurons = 5\n",
        "        hiddenLayer3Neurons = 6\n",
        "        outputLayerNeurons = num_classes  # Output: 3 classes (Fertilizer types)\n",
        "\n",
        "        # Learning rate\n",
        "        self.learning_rate = 0.001\n",
        "\n",
        "        # Initialize weights\n",
        "        self.W_H1 = np.random.randn(inputLayerNeurons, hiddenLayer1Neurons)\n",
        "        self.W_H2 = np.random.randn(hiddenLayer1Neurons, hiddenLayer2Neurons)\n",
        "        self.W_H3 = np.random.randn(hiddenLayer2Neurons, hiddenLayer3Neurons)\n",
        "        self.W_OH = np.random.randn(hiddenLayer3Neurons, outputLayerNeurons)\n",
        "\n",
        "    def relu(self, x, der=False):\n",
        "        if der:\n",
        "            return np.where(x > 0, 1, 0)\n",
        "        else:\n",
        "            return np.maximum(0, x)\n",
        "\n",
        "    def softmax(self, x):\n",
        "        exp_vals = np.exp(x - np.max(x, axis=1, keepdims=True))  # Stability fix\n",
        "        return exp_vals / np.sum(exp_vals, axis=1, keepdims=True)\n",
        "\n",
        "    def feedForward(self, X):\n",
        "        # Forward pass through 3 hidden layers and output layer\n",
        "        self.hidden1_output = self.relu(np.dot(X, self.W_H1))\n",
        "        self.hidden2_output = self.relu(np.dot(self.hidden1_output, self.W_H2))\n",
        "        self.hidden3_output = self.relu(np.dot(self.hidden2_output, self.W_H3))\n",
        "        output_input = np.dot(self.hidden3_output, self.W_OH)\n",
        "        pred = self.softmax(output_input)\n",
        "        return pred  # Return predictions\n",
        "\n",
        "    def cross_entropy_loss(self, y_true, y_pred):\n",
        "        # Cross entropy loss for multi-class classification\n",
        "        return -np.mean(np.sum(y_true * np.log(y_pred + 1e-8), axis=1))\n",
        "\n",
        "    def backPropagation(self, X, Y, pred):\n",
        "      # Calculating error and backpropagation\n",
        "      output_error = Y - pred\n",
        "      output_delta = self.learning_rate * output_error\n",
        "\n",
        "      # Using ReLU derivative for hidden layers\n",
        "      hidden3_error = output_delta.dot(self.W_OH.T)\n",
        "      hidden3_delta = self.learning_rate * hidden3_error * self.relu(self.hidden3_output, der=True)\n",
        "\n",
        "      hidden2_error = hidden3_delta.dot(self.W_H3.T)\n",
        "      hidden2_delta = self.learning_rate * hidden2_error * self.relu(self.hidden2_output, der=True)\n",
        "\n",
        "      hidden1_error = hidden2_delta.dot(self.W_H2.T)\n",
        "      hidden1_delta = self.learning_rate * hidden1_error * self.relu(self.hidden1_output, der=True)\n",
        "\n",
        "      # Updating weights\n",
        "      self.W_H1 += X.T.dot(hidden1_delta)\n",
        "      self.W_H2 += self.hidden1_output.T.dot(hidden2_delta)\n",
        "      self.W_H3 += self.hidden2_output.T.dot(hidden3_delta)\n",
        "      self.W_OH += self.hidden3_output.T.dot(output_delta)\n",
        "\n",
        "\n",
        "\n",
        "    def train(self, X, Y):\n",
        "        output = self.feedForward(X)\n",
        "        self.backPropagation(X, Y, output)\n"
      ],
      "metadata": {
        "id": "-tuJb_Hr8nmB"
      },
      "execution_count": 78,
      "outputs": []
    },
    {
      "cell_type": "markdown",
      "source": [
        "**4. Training the Model**\n",
        "\n",
        "**Training Loop:** The model is trained for 500 iterations.\n",
        "After each iteration, the loss (mean squared error) is calculated and appended to the err list for tracking.\n",
        "\n",
        "**Loss Plot:** The error is plotted to visualize how the loss decreases over time."
      ],
      "metadata": {
        "id": "tmfrv_U19qXs"
      }
    },
    {
      "cell_type": "code",
      "source": [
        "# Initialize the Neural Network\n",
        "NN = NeuralNetwork()\n",
        "\n",
        "# Training loop with tracking of loss\n",
        "train_loss = []\n",
        "test_loss = []\n",
        "\n",
        "for i in range(5000):\n",
        "    # Training the model\n",
        "    NN.train(X_train, y_train)\n",
        "\n",
        "    # Calculate and track training loss\n",
        "    train_predictions = NN.feedForward(X_train)\n",
        "    train_loss.append(NN.cross_entropy_loss(y_train, train_predictions))  # Use cross-entropy loss for training\n",
        "\n",
        "    # Calculate and track testing loss\n",
        "    test_predictions = NN.feedForward(X_test)\n",
        "    test_loss.append(NN.cross_entropy_loss(y_test, test_predictions))  # Use cross-entropy loss for testing\n",
        "\n",
        "# Create two separate plots for training and testing losses\n",
        "fig, (ax1, ax2) = plt.subplots(1, 2, figsize=(12, 6))\n",
        "\n",
        "# Plot Training Loss\n",
        "ax1.plot(train_loss, label=\"Training Loss\")\n",
        "ax1.set_title(\"Training Loss Over Iterations\")\n",
        "ax1.set_xlabel(\"Iterations\")\n",
        "ax1.set_ylabel(\"Loss\")\n",
        "ax1.legend()\n",
        "\n",
        "# Plot Testing Loss\n",
        "ax2.plot(test_loss, label=\"Testing Loss\", color='red')\n",
        "ax2.set_title(\"Testing Loss Over Iterations\")\n",
        "ax2.set_xlabel(\"Iterations\")\n",
        "ax2.set_ylabel(\"Loss\")\n",
        "ax2.legend()\n",
        "\n",
        "# Display both plots\n",
        "plt.tight_layout()\n",
        "plt.show()\n"
      ],
      "metadata": {
        "colab": {
          "base_uri": "https://localhost:8080/",
          "height": 607
        },
        "id": "Wr60BI4k9kVN",
        "outputId": "26dd7fb4-8d77-4505-f9f2-99bc514a0cc4"
      },
      "execution_count": 81,
      "outputs": [
        {
          "output_type": "display_data",
          "data": {
            "text/plain": [
              "<Figure size 1200x600 with 2 Axes>"
            ],
            "image/png": "[encoded data removed]"
          },
          "metadata": {}
        }
      ]
    },
    {
      "cell_type": "markdown",
      "source": [
        "**TESTING**"
      ],
      "metadata": {
        "id": "bNeSCyxH_P1c"
      }
    },
    {
      "cell_type": "code",
      "source": [
        "# Testing the model\n",
        "test_predictions = NN.feedForward(X_test)\n",
        "test_loss_final = NN.cross_entropy_loss(y_test, test_predictions)\n",
        "test_accuracy = np.mean(np.argmax(test_predictions, axis=1) == np.argmax(y_test, axis=1))\n",
        "\n",
        "print(f\"Final Test Loss: {test_loss_final:.4f}\")\n",
        "print(f\"Final Test Accuracy: {test_accuracy * 100:.2f}%\")\n",
        "\n",
        "# Display predictions for testing samples\n",
        "predicted_classes = np.argmax(test_predictions, axis=1)\n",
        "fertilizer_types = list(fertilizer_mapping.keys())\n",
        "\n",
        "for i, prediction in enumerate(predicted_classes):\n",
        "    print(f\"Sample {split_index + i + 1}: Predicted Fertilizer Type: {fertilizer_types[prediction]}\")\n"
      ],
      "metadata": {
        "colab": {
          "base_uri": "https://localhost:8080/"
        },
        "id": "rV2hl1CG942c",
        "outputId": "dafded7b-9c9a-453c-f31e-f559d77495f4"
      },
      "execution_count": 82,
      "outputs": [
        {
          "output_type": "stream",
          "name": "stdout",
          "text": [
            "Final Test Loss: 1.0834\n",
            "Final Test Accuracy: 42.50%\n",
            "Sample 161: Predicted Fertilizer Type: 0\n",
            "Sample 162: Predicted Fertilizer Type: 0\n",
            "Sample 163: Predicted Fertilizer Type: 0\n",
            "Sample 164: Predicted Fertilizer Type: 0\n",
            "Sample 165: Predicted Fertilizer Type: 0\n",
            "Sample 166: Predicted Fertilizer Type: 0\n",
            "Sample 167: Predicted Fertilizer Type: 0\n",
            "Sample 168: Predicted Fertilizer Type: 0\n",
            "Sample 169: Predicted Fertilizer Type: 0\n",
            "Sample 170: Predicted Fertilizer Type: 0\n",
            "Sample 171: Predicted Fertilizer Type: 0\n",
            "Sample 172: Predicted Fertilizer Type: 0\n",
            "Sample 173: Predicted Fertilizer Type: 0\n",
            "Sample 174: Predicted Fertilizer Type: 0\n",
            "Sample 175: Predicted Fertilizer Type: 0\n",
            "Sample 176: Predicted Fertilizer Type: 0\n",
            "Sample 177: Predicted Fertilizer Type: 0\n",
            "Sample 178: Predicted Fertilizer Type: 0\n",
            "Sample 179: Predicted Fertilizer Type: 0\n",
            "Sample 180: Predicted Fertilizer Type: 0\n",
            "Sample 181: Predicted Fertilizer Type: 0\n",
            "Sample 182: Predicted Fertilizer Type: 0\n",
            "Sample 183: Predicted Fertilizer Type: 0\n",
            "Sample 184: Predicted Fertilizer Type: 0\n",
            "Sample 185: Predicted Fertilizer Type: 0\n",
            "Sample 186: Predicted Fertilizer Type: 0\n",
            "Sample 187: Predicted Fertilizer Type: 0\n",
            "Sample 188: Predicted Fertilizer Type: 0\n",
            "Sample 189: Predicted Fertilizer Type: 0\n",
            "Sample 190: Predicted Fertilizer Type: 0\n",
            "Sample 191: Predicted Fertilizer Type: 0\n",
            "Sample 192: Predicted Fertilizer Type: 0\n",
            "Sample 193: Predicted Fertilizer Type: 0\n",
            "Sample 194: Predicted Fertilizer Type: 0\n",
            "Sample 195: Predicted Fertilizer Type: 0\n",
            "Sample 196: Predicted Fertilizer Type: 0\n",
            "Sample 197: Predicted Fertilizer Type: 0\n",
            "Sample 198: Predicted Fertilizer Type: 0\n",
            "Sample 199: Predicted Fertilizer Type: 0\n",
            "Sample 200: Predicted Fertilizer Type: 0\n"
          ]
        }
      ]
    },
    {
      "cell_type": "code",
      "source": [],
      "metadata": {
        "id": "twFtF1UQE5Mv"
      },
      "execution_count": 80,
      "outputs": []
    }
  ]
}